{
 "cells": [
  {
   "cell_type": "code",
   "execution_count": 2,
   "id": "07db38e9",
   "metadata": {},
   "outputs": [
    {
     "data": {
      "text/plain": [
       "array([[1., 1., 1., 1., 1.],\n",
       "       [1., 1., 1., 1., 1.]])"
      ]
     },
     "execution_count": 2,
     "metadata": {},
     "output_type": "execute_result"
    }
   ],
   "source": [
    "import numpy as np\n",
    "np.ones((2,5))"
   ]
  },
  {
   "cell_type": "code",
   "execution_count": 3,
   "id": "08e57f31",
   "metadata": {},
   "outputs": [
    {
     "data": {
      "text/plain": [
       "array([[1, 1, 1, 1, 1],\n",
       "       [1, 1, 1, 1, 1]])"
      ]
     },
     "execution_count": 3,
     "metadata": {},
     "output_type": "execute_result"
    }
   ],
   "source": [
    "np.ones((2,5),dtype=int)"
   ]
  },
  {
   "cell_type": "code",
   "execution_count": 5,
   "id": "b6d96c2a",
   "metadata": {},
   "outputs": [
    {
     "data": {
      "text/plain": [
       "array([0.  , 0.25, 0.5 , 0.75, 1.  ])"
      ]
     },
     "execution_count": 5,
     "metadata": {},
     "output_type": "execute_result"
    }
   ],
   "source": [
    "np.linspace(0,1,5)"
   ]
  },
  {
   "cell_type": "code",
   "execution_count": 6,
   "id": "2516e68c",
   "metadata": {},
   "outputs": [
    {
     "data": {
      "text/plain": [
       "array([[1, 0, 0, 0, 0],\n",
       "       [0, 1, 0, 0, 0],\n",
       "       [0, 0, 1, 0, 0],\n",
       "       [0, 0, 0, 1, 0],\n",
       "       [0, 0, 0, 0, 1]])"
      ]
     },
     "execution_count": 6,
     "metadata": {},
     "output_type": "execute_result"
    }
   ],
   "source": [
    "np.eye(5,dtype=int)"
   ]
  },
  {
   "cell_type": "code",
   "execution_count": 9,
   "id": "619bc0e2",
   "metadata": {},
   "outputs": [
    {
     "data": {
      "text/plain": [
       "array([[0.13504423, 0.28104325, 0.07378176, 0.67148047],\n",
       "       [0.49545511, 0.51755716, 0.26684508, 0.92544202]])"
      ]
     },
     "execution_count": 9,
     "metadata": {},
     "output_type": "execute_result"
    }
   ],
   "source": [
    "np.random.rand(2,4)#0 to 1"
   ]
  },
  {
   "cell_type": "code",
   "execution_count": 10,
   "id": "a02431c4",
   "metadata": {},
   "outputs": [
    {
     "data": {
      "text/plain": [
       "array([[-1.38172719, -0.81408492,  0.46612033,  0.89902884],\n",
       "       [ 1.51249127, -0.38258576, -1.04181171, -0.07818485]])"
      ]
     },
     "execution_count": 10,
     "metadata": {},
     "output_type": "execute_result"
    }
   ],
   "source": [
    "np.random.randn(2,4)#normal"
   ]
  },
  {
   "cell_type": "code",
   "execution_count": 11,
   "id": "d0aed294",
   "metadata": {},
   "outputs": [
    {
     "data": {
      "text/plain": [
       "array([7, 1, 1, 7, 8, 7, 6, 7, 4, 3, 4, 9, 5, 6, 0])"
      ]
     },
     "execution_count": 11,
     "metadata": {},
     "output_type": "execute_result"
    }
   ],
   "source": [
    "np.random.randint(0,10,15)#no. from 0 to 9 and total no. should be 15(size)"
   ]
  },
  {
   "cell_type": "code",
   "execution_count": 12,
   "id": "b353e8b9",
   "metadata": {},
   "outputs": [
    {
     "data": {
      "text/plain": [
       "array([0., 0., 0., 0., 0.])"
      ]
     },
     "execution_count": 12,
     "metadata": {},
     "output_type": "execute_result"
    }
   ],
   "source": [
    "np.zeros(5)"
   ]
  },
  {
   "cell_type": "code",
   "execution_count": 13,
   "id": "c4dc7d68",
   "metadata": {},
   "outputs": [
    {
     "data": {
      "text/plain": [
       "array([1, 2, 3])"
      ]
     },
     "execution_count": 13,
     "metadata": {},
     "output_type": "execute_result"
    }
   ],
   "source": [
    "l=[1,2,3]\n",
    "np.array(l)"
   ]
  },
  {
   "cell_type": "code",
   "execution_count": 14,
   "id": "db18dc6f",
   "metadata": {},
   "outputs": [
    {
     "data": {
      "text/plain": [
       "array([1, 2, 3])"
      ]
     },
     "execution_count": 14,
     "metadata": {},
     "output_type": "execute_result"
    }
   ],
   "source": [
    "m=np.array(l)\n",
    "m"
   ]
  },
  {
   "cell_type": "code",
   "execution_count": 15,
   "id": "d0425e05",
   "metadata": {},
   "outputs": [
    {
     "data": {
      "text/plain": [
       "array([[1, 2, 3],\n",
       "       [4, 5, 6],\n",
       "       [7, 8, 9]])"
      ]
     },
     "execution_count": 15,
     "metadata": {},
     "output_type": "execute_result"
    }
   ],
   "source": [
    "lol=[1,2,3],[4,5,6],[7,8,9]#list of list\n",
    "np.array(lol)"
   ]
  },
  {
   "cell_type": "code",
   "execution_count": 16,
   "id": "ed94176b",
   "metadata": {},
   "outputs": [
    {
     "data": {
      "text/plain": [
       "array([10, 11, 12, 13, 14, 15, 16, 17, 18, 19, 20, 21, 22, 23, 24, 25, 26,\n",
       "       27, 28, 29, 30, 31, 32, 33])"
      ]
     },
     "execution_count": 16,
     "metadata": {},
     "output_type": "execute_result"
    }
   ],
   "source": [
    "np.arange(10,34)"
   ]
  },
  {
   "cell_type": "code",
   "execution_count": 17,
   "id": "53c3263d",
   "metadata": {},
   "outputs": [
    {
     "data": {
      "text/plain": [
       "array([10, 18, 26, 34, 42, 50, 58, 66, 74, 82, 90])"
      ]
     },
     "execution_count": 17,
     "metadata": {},
     "output_type": "execute_result"
    }
   ],
   "source": [
    "np.arange(10,91,8)"
   ]
  },
  {
   "cell_type": "code",
   "execution_count": 18,
   "id": "3a3c7fd5",
   "metadata": {},
   "outputs": [
    {
     "data": {
      "text/plain": [
       "array([ 2,  3,  4,  5,  6,  7,  8,  9, 10, 11, 12, 13, 14, 15, 16, 17, 18,\n",
       "       19])"
      ]
     },
     "execution_count": 18,
     "metadata": {},
     "output_type": "execute_result"
    }
   ],
   "source": [
    "n=np.arange(2,20)\n",
    "n"
   ]
  },
  {
   "cell_type": "code",
   "execution_count": 19,
   "id": "ddea4ba0",
   "metadata": {},
   "outputs": [
    {
     "data": {
      "text/plain": [
       "17"
      ]
     },
     "execution_count": 19,
     "metadata": {},
     "output_type": "execute_result"
    }
   ],
   "source": [
    "n.argmax()"
   ]
  },
  {
   "cell_type": "code",
   "execution_count": 22,
   "id": "6007f401",
   "metadata": {},
   "outputs": [
    {
     "data": {
      "text/plain": [
       "dtype('int32')"
      ]
     },
     "execution_count": 22,
     "metadata": {},
     "output_type": "execute_result"
    }
   ],
   "source": [
    "n.dtype"
   ]
  },
  {
   "cell_type": "code",
   "execution_count": 25,
   "id": "8bea18df",
   "metadata": {},
   "outputs": [
    {
     "data": {
      "text/plain": [
       "array([[ 2,  3,  4],\n",
       "       [ 5,  6,  7],\n",
       "       [ 8,  9, 10],\n",
       "       [11, 12, 13],\n",
       "       [14, 15, 16],\n",
       "       [17, 18, 19]])"
      ]
     },
     "execution_count": 25,
     "metadata": {},
     "output_type": "execute_result"
    }
   ],
   "source": [
    "n=n.reshape(6,3)\n",
    "n"
   ]
  },
  {
   "cell_type": "code",
   "execution_count": 26,
   "id": "5f95cb0d",
   "metadata": {},
   "outputs": [
    {
     "data": {
      "text/plain": [
       "0"
      ]
     },
     "execution_count": 26,
     "metadata": {},
     "output_type": "execute_result"
    }
   ],
   "source": [
    "n.argmin()"
   ]
  },
  {
   "cell_type": "code",
   "execution_count": 27,
   "id": "a6d40ee3",
   "metadata": {},
   "outputs": [
    {
     "data": {
      "text/plain": [
       "17"
      ]
     },
     "execution_count": 27,
     "metadata": {},
     "output_type": "execute_result"
    }
   ],
   "source": [
    "n.argmax()"
   ]
  },
  {
   "cell_type": "code",
   "execution_count": 28,
   "id": "9bad7e67",
   "metadata": {},
   "outputs": [
    {
     "data": {
      "text/plain": [
       "array([[ 8,  9, 10],\n",
       "       [11, 12, 13],\n",
       "       [14, 15, 16],\n",
       "       [17, 18, 19]])"
      ]
     },
     "execution_count": 28,
     "metadata": {},
     "output_type": "execute_result"
    }
   ],
   "source": [
    "n[2:10]"
   ]
  },
  {
   "cell_type": "code",
   "execution_count": 31,
   "id": "509545ac",
   "metadata": {},
   "outputs": [
    {
     "data": {
      "text/plain": [
       "array([[  2,   3,   4],\n",
       "       [  5,   6,   7],\n",
       "       [100, 100, 100],\n",
       "       [100, 100, 100],\n",
       "       [ 14,  15,  16],\n",
       "       [ 17,  18,  19]])"
      ]
     },
     "execution_count": 31,
     "metadata": {},
     "output_type": "execute_result"
    }
   ],
   "source": [
    "n[2:4]=100\n",
    "n"
   ]
  },
  {
   "cell_type": "code",
   "execution_count": 32,
   "id": "f292447d",
   "metadata": {},
   "outputs": [
    {
     "data": {
      "text/plain": [
       "array([6, 5, 6, 9, 5])"
      ]
     },
     "execution_count": 32,
     "metadata": {},
     "output_type": "execute_result"
    }
   ],
   "source": [
    "w=np.random.randint(0,10,5)\n",
    "w"
   ]
  },
  {
   "cell_type": "code",
   "execution_count": 33,
   "id": "25dfea91",
   "metadata": {},
   "outputs": [
    {
     "data": {
      "text/plain": [
       "5"
      ]
     },
     "execution_count": 33,
     "metadata": {},
     "output_type": "execute_result"
    }
   ],
   "source": [
    "w.min()"
   ]
  },
  {
   "cell_type": "code",
   "execution_count": 34,
   "id": "ffd10f29",
   "metadata": {},
   "outputs": [
    {
     "data": {
      "text/plain": [
       "9"
      ]
     },
     "execution_count": 34,
     "metadata": {},
     "output_type": "execute_result"
    }
   ],
   "source": [
    "w.max()"
   ]
  },
  {
   "cell_type": "code",
   "execution_count": 35,
   "id": "3ec8a805",
   "metadata": {},
   "outputs": [
    {
     "data": {
      "text/plain": [
       "3"
      ]
     },
     "execution_count": 35,
     "metadata": {},
     "output_type": "execute_result"
    }
   ],
   "source": [
    "w.argmax()"
   ]
  },
  {
   "cell_type": "code",
   "execution_count": 36,
   "id": "b576e060",
   "metadata": {},
   "outputs": [
    {
     "data": {
      "text/plain": [
       "1"
      ]
     },
     "execution_count": 36,
     "metadata": {},
     "output_type": "execute_result"
    }
   ],
   "source": [
    "w.argmin()"
   ]
  },
  {
   "cell_type": "code",
   "execution_count": 38,
   "id": "a0c7b375",
   "metadata": {},
   "outputs": [
    {
     "data": {
      "text/plain": [
       "array([[1., 0., 0., 0., 0.],\n",
       "       [0., 1., 0., 0., 0.],\n",
       "       [0., 0., 1., 0., 0.],\n",
       "       [0., 0., 0., 1., 0.],\n",
       "       [0., 0., 0., 0., 1.]])"
      ]
     },
     "execution_count": 38,
     "metadata": {},
     "output_type": "execute_result"
    }
   ],
   "source": [
    "a=np.eye(5)\n",
    "a"
   ]
  },
  {
   "cell_type": "code",
   "execution_count": 41,
   "id": "9da98f7b",
   "metadata": {},
   "outputs": [
    {
     "data": {
      "text/plain": [
       "array([[0.28584974, 0.26891617, 0.44813092],\n",
       "       [0.61049048, 0.9257955 , 0.47993265]])"
      ]
     },
     "execution_count": 41,
     "metadata": {},
     "output_type": "execute_result"
    }
   ],
   "source": [
    "a=np.random.rand(2,3)\n",
    "a"
   ]
  },
  {
   "cell_type": "code",
   "execution_count": 42,
   "id": "32be5347",
   "metadata": {},
   "outputs": [
    {
     "data": {
      "text/plain": [
       "array([[0.28584974, 0.61049048],\n",
       "       [0.26891617, 0.9257955 ],\n",
       "       [0.44813092, 0.47993265]])"
      ]
     },
     "execution_count": 42,
     "metadata": {},
     "output_type": "execute_result"
    }
   ],
   "source": [
    "a.T"
   ]
  },
  {
   "cell_type": "code",
   "execution_count": null,
   "id": "3a578fe5",
   "metadata": {},
   "outputs": [],
   "source": [
    "#: stands for rows"
   ]
  },
  {
   "cell_type": "code",
   "execution_count": 44,
   "id": "139dde01",
   "metadata": {},
   "outputs": [
    {
     "data": {
      "text/plain": [
       "array([[24, 13,  2, 15],\n",
       "       [15,  2, 54, 65],\n",
       "       [56, 76, 24,  7]])"
      ]
     },
     "execution_count": 44,
     "metadata": {},
     "output_type": "execute_result"
    }
   ],
   "source": [
    "sm=np.array([[24,13,2,15],[15,2,54,65],[56,76,24,7]])\n",
    "sm"
   ]
  },
  {
   "cell_type": "code",
   "execution_count": 45,
   "id": "cedbef95",
   "metadata": {},
   "outputs": [
    {
     "data": {
      "text/plain": [
       "array([[54, 65],\n",
       "       [24,  7]])"
      ]
     },
     "execution_count": 45,
     "metadata": {},
     "output_type": "execute_result"
    }
   ],
   "source": [
    "sm[1:,2:]"
   ]
  },
  {
   "cell_type": "code",
   "execution_count": 46,
   "id": "16f9b649",
   "metadata": {},
   "outputs": [
    {
     "data": {
      "text/plain": [
       "array([[ 576,  169,    4,  225],\n",
       "       [ 225,    4, 2916, 4225],\n",
       "       [3136, 5776,  576,   49]], dtype=int32)"
      ]
     },
     "execution_count": 46,
     "metadata": {},
     "output_type": "execute_result"
    }
   ],
   "source": [
    "np.square(sm)"
   ]
  },
  {
   "cell_type": "code",
   "execution_count": 47,
   "id": "5c032e83",
   "metadata": {},
   "outputs": [
    {
     "data": {
      "text/plain": [
       "array([[2.64891221e+10, 4.42413392e+05, 7.38905610e+00, 3.26901737e+06],\n",
       "       [3.26901737e+06, 7.38905610e+00, 2.83075330e+23, 1.69488924e+28],\n",
       "       [2.09165950e+24, 1.01480039e+33, 2.64891221e+10, 1.09663316e+03]])"
      ]
     },
     "execution_count": 47,
     "metadata": {},
     "output_type": "execute_result"
    }
   ],
   "source": [
    "np.exp(sm)"
   ]
  },
  {
   "cell_type": "code",
   "execution_count": 48,
   "id": "65e34c13",
   "metadata": {},
   "outputs": [
    {
     "data": {
      "text/plain": [
       "29.416666666666668"
      ]
     },
     "execution_count": 48,
     "metadata": {},
     "output_type": "execute_result"
    }
   ],
   "source": [
    "np.mean(sm)"
   ]
  },
  {
   "cell_type": "code",
   "execution_count": 49,
   "id": "27e4893e",
   "metadata": {},
   "outputs": [
    {
     "data": {
      "text/plain": [
       "array([[24, 13,  2, 15],\n",
       "       [15,  2, 54, 65],\n",
       "       [56, 76, 24,  7]])"
      ]
     },
     "execution_count": 49,
     "metadata": {},
     "output_type": "execute_result"
    }
   ],
   "source": [
    "np.round(sm,decimals=3)"
   ]
  },
  {
   "cell_type": "code",
   "execution_count": 51,
   "id": "ebb99cdf",
   "metadata": {},
   "outputs": [
    {
     "data": {
      "text/plain": [
       "array([15, 65,  7])"
      ]
     },
     "execution_count": 51,
     "metadata": {},
     "output_type": "execute_result"
    }
   ],
   "source": [
    "sm[:,3]"
   ]
  },
  {
   "cell_type": "code",
   "execution_count": 52,
   "id": "f211fa61",
   "metadata": {},
   "outputs": [
    {
     "data": {
      "text/plain": [
       "array([[54, 65],\n",
       "       [24,  7]])"
      ]
     },
     "execution_count": 52,
     "metadata": {},
     "output_type": "execute_result"
    }
   ],
   "source": [
    "sm[1:3,2:4]"
   ]
  },
  {
   "cell_type": "code",
   "execution_count": 53,
   "id": "a993bdec",
   "metadata": {},
   "outputs": [
    {
     "data": {
      "text/plain": [
       "24"
      ]
     },
     "execution_count": 53,
     "metadata": {},
     "output_type": "execute_result"
    }
   ],
   "source": [
    "sm[2,2]"
   ]
  },
  {
   "cell_type": "code",
   "execution_count": 54,
   "id": "b94c93a9",
   "metadata": {},
   "outputs": [
    {
     "data": {
      "text/plain": [
       "array([ 1,  2,  3,  4,  5,  6,  7,  8,  9, 10, 11, 12, 13, 14, 15, 16, 17,\n",
       "       18, 19, 20, 21, 22, 23, 24, 25, 26, 27, 28, 29, 30])"
      ]
     },
     "execution_count": 54,
     "metadata": {},
     "output_type": "execute_result"
    }
   ],
   "source": [
    "sp=np.arange(1,31)\n",
    "sp"
   ]
  },
  {
   "cell_type": "code",
   "execution_count": 55,
   "id": "9911a835",
   "metadata": {},
   "outputs": [
    {
     "data": {
      "text/plain": [
       "array([0.        , 0.69314718, 1.09861229, 1.38629436, 1.60943791,\n",
       "       1.79175947, 1.94591015, 2.07944154, 2.19722458, 2.30258509,\n",
       "       2.39789527, 2.48490665, 2.56494936, 2.63905733, 2.7080502 ,\n",
       "       2.77258872, 2.83321334, 2.89037176, 2.94443898, 2.99573227,\n",
       "       3.04452244, 3.09104245, 3.13549422, 3.17805383, 3.21887582,\n",
       "       3.25809654, 3.29583687, 3.33220451, 3.36729583, 3.40119738])"
      ]
     },
     "execution_count": 55,
     "metadata": {},
     "output_type": "execute_result"
    }
   ],
   "source": [
    "np.log(sp)"
   ]
  },
  {
   "cell_type": "code",
   "execution_count": 56,
   "id": "0e82f94d",
   "metadata": {},
   "outputs": [
    {
     "data": {
      "text/plain": [
       "8.65544144839919"
      ]
     },
     "execution_count": 56,
     "metadata": {},
     "output_type": "execute_result"
    }
   ],
   "source": [
    "np.std(sp)"
   ]
  },
  {
   "cell_type": "code",
   "execution_count": 57,
   "id": "f155d9d0",
   "metadata": {},
   "outputs": [
    {
     "data": {
      "text/plain": [
       "array([1.        , 1.41421356, 1.73205081, 2.        , 2.23606798,\n",
       "       2.44948974, 2.64575131, 2.82842712, 3.        , 3.16227766,\n",
       "       3.31662479, 3.46410162, 3.60555128, 3.74165739, 3.87298335,\n",
       "       4.        , 4.12310563, 4.24264069, 4.35889894, 4.47213595,\n",
       "       4.58257569, 4.69041576, 4.79583152, 4.89897949, 5.        ,\n",
       "       5.09901951, 5.19615242, 5.29150262, 5.38516481, 5.47722558])"
      ]
     },
     "execution_count": 57,
     "metadata": {},
     "output_type": "execute_result"
    }
   ],
   "source": [
    "np.sqrt(sp)"
   ]
  },
  {
   "cell_type": "code",
   "execution_count": 58,
   "id": "3f2475ed",
   "metadata": {},
   "outputs": [
    {
     "data": {
      "text/plain": [
       "74.91666666666667"
      ]
     },
     "execution_count": 58,
     "metadata": {},
     "output_type": "execute_result"
    }
   ],
   "source": [
    "np.var(sp)"
   ]
  },
  {
   "cell_type": "code",
   "execution_count": 59,
   "id": "c41755fe",
   "metadata": {},
   "outputs": [
    {
     "data": {
      "text/plain": [
       "array([[-0.32946272,  0.20250579, -1.2040371 ,  1.04249363],\n",
       "       [ 0.55670113,  2.21064383, -0.04328289, -0.0400974 ],\n",
       "       [ 0.78329806,  2.15857255,  0.39944815,  1.0118224 ]])"
      ]
     },
     "execution_count": 59,
     "metadata": {},
     "output_type": "execute_result"
    }
   ],
   "source": [
    "ar=np.random.randn(3,4)\n",
    "ar"
   ]
  },
  {
   "cell_type": "code",
   "execution_count": 61,
   "id": "cfd4029d",
   "metadata": {},
   "outputs": [
    {
     "data": {
      "text/plain": [
       "array([[-0.329,  0.203, -1.204,  1.042],\n",
       "       [ 0.557,  2.211, -0.043, -0.04 ],\n",
       "       [ 0.783,  2.159,  0.399,  1.012]])"
      ]
     },
     "execution_count": 61,
     "metadata": {},
     "output_type": "execute_result"
    }
   ],
   "source": [
    "np.round(ar,decimals=3)"
   ]
  },
  {
   "cell_type": "code",
   "execution_count": 62,
   "id": "be84a2b6",
   "metadata": {},
   "outputs": [
    {
     "data": {
      "text/plain": [
       "array(['a', 'b', 'o'], dtype='<U1')"
      ]
     },
     "execution_count": 62,
     "metadata": {},
     "output_type": "execute_result"
    }
   ],
   "source": [
    "f=np.array(['a','o','b','a'])\n",
    "np.unique(f)"
   ]
  },
  {
   "cell_type": "code",
   "execution_count": 63,
   "id": "b337eedb",
   "metadata": {},
   "outputs": [],
   "source": [
    "import pandas as pd"
   ]
  },
  {
   "cell_type": "code",
   "execution_count": 64,
   "id": "a9612619",
   "metadata": {},
   "outputs": [
    {
     "data": {
      "text/plain": [
       "cricket       1\n",
       "football      2\n",
       "basketball    3\n",
       "golf          4\n",
       "dtype: int64"
      ]
     },
     "execution_count": 64,
     "metadata": {},
     "output_type": "execute_result"
    }
   ],
   "source": [
    "s1=pd.Series([1,2,3,4],index=['cricket','football','basketball','golf'])\n",
    "s1"
   ]
  },
  {
   "cell_type": "code",
   "execution_count": 65,
   "id": "b6bdb9a2",
   "metadata": {},
   "outputs": [
    {
     "data": {
      "text/plain": [
       "3"
      ]
     },
     "execution_count": 65,
     "metadata": {},
     "output_type": "execute_result"
    }
   ],
   "source": [
    "s1['basketball']"
   ]
  },
  {
   "cell_type": "code",
   "execution_count": 66,
   "id": "5937965d",
   "metadata": {},
   "outputs": [
    {
     "data": {
      "text/plain": [
       "cricket       11\n",
       "football      13\n",
       "basketball    12\n",
       "golf           4\n",
       "dtype: int64"
      ]
     },
     "execution_count": 66,
     "metadata": {},
     "output_type": "execute_result"
    }
   ],
   "source": [
    "s2=pd.Series([11,13,12,4],index=['cricket','football','basketball','golf'])\n",
    "s2"
   ]
  },
  {
   "cell_type": "code",
   "execution_count": 67,
   "id": "2c6d4841",
   "metadata": {},
   "outputs": [
    {
     "data": {
      "text/plain": [
       "cricket       12\n",
       "football      15\n",
       "basketball    15\n",
       "golf           8\n",
       "dtype: int64"
      ]
     },
     "execution_count": 67,
     "metadata": {},
     "output_type": "execute_result"
    }
   ],
   "source": [
    "s1+s2"
   ]
  },
  {
   "cell_type": "code",
   "execution_count": 80,
   "id": "a9cb027c",
   "metadata": {},
   "outputs": [],
   "source": [
    "df1=pd.DataFrame(np.random.rand(8,5),index='A B C D E F G H'.split(),columns='S1 S2 S3 S4 S5'.split())"
   ]
  },
  {
   "cell_type": "code",
   "execution_count": 81,
   "id": "98cdd6dc",
   "metadata": {},
   "outputs": [
    {
     "data": {
      "text/html": [
       "<div>\n",
       "<style scoped>\n",
       "    .dataframe tbody tr th:only-of-type {\n",
       "        vertical-align: middle;\n",
       "    }\n",
       "\n",
       "    .dataframe tbody tr th {\n",
       "        vertical-align: top;\n",
       "    }\n",
       "\n",
       "    .dataframe thead th {\n",
       "        text-align: right;\n",
       "    }\n",
       "</style>\n",
       "<table border=\"1\" class=\"dataframe\">\n",
       "  <thead>\n",
       "    <tr style=\"text-align: right;\">\n",
       "      <th></th>\n",
       "      <th>S2</th>\n",
       "      <th>S3</th>\n",
       "      <th>S4</th>\n",
       "    </tr>\n",
       "  </thead>\n",
       "  <tbody>\n",
       "    <tr>\n",
       "      <th>A</th>\n",
       "      <td>0.435601</td>\n",
       "      <td>0.366217</td>\n",
       "      <td>0.088628</td>\n",
       "    </tr>\n",
       "    <tr>\n",
       "      <th>B</th>\n",
       "      <td>0.055064</td>\n",
       "      <td>0.905654</td>\n",
       "      <td>0.317864</td>\n",
       "    </tr>\n",
       "    <tr>\n",
       "      <th>C</th>\n",
       "      <td>0.793234</td>\n",
       "      <td>0.604505</td>\n",
       "      <td>0.110979</td>\n",
       "    </tr>\n",
       "    <tr>\n",
       "      <th>D</th>\n",
       "      <td>0.444745</td>\n",
       "      <td>0.027324</td>\n",
       "      <td>0.256862</td>\n",
       "    </tr>\n",
       "    <tr>\n",
       "      <th>E</th>\n",
       "      <td>0.602209</td>\n",
       "      <td>0.731437</td>\n",
       "      <td>0.897979</td>\n",
       "    </tr>\n",
       "    <tr>\n",
       "      <th>F</th>\n",
       "      <td>0.524678</td>\n",
       "      <td>0.589033</td>\n",
       "      <td>0.011166</td>\n",
       "    </tr>\n",
       "    <tr>\n",
       "      <th>G</th>\n",
       "      <td>0.191241</td>\n",
       "      <td>0.316504</td>\n",
       "      <td>0.354434</td>\n",
       "    </tr>\n",
       "    <tr>\n",
       "      <th>H</th>\n",
       "      <td>0.421656</td>\n",
       "      <td>0.245015</td>\n",
       "      <td>0.408842</td>\n",
       "    </tr>\n",
       "  </tbody>\n",
       "</table>\n",
       "</div>"
      ],
      "text/plain": [
       "         S2        S3        S4\n",
       "A  0.435601  0.366217  0.088628\n",
       "B  0.055064  0.905654  0.317864\n",
       "C  0.793234  0.604505  0.110979\n",
       "D  0.444745  0.027324  0.256862\n",
       "E  0.602209  0.731437  0.897979\n",
       "F  0.524678  0.589033  0.011166\n",
       "G  0.191241  0.316504  0.354434\n",
       "H  0.421656  0.245015  0.408842"
      ]
     },
     "execution_count": 81,
     "metadata": {},
     "output_type": "execute_result"
    }
   ],
   "source": [
    "df1[['S2','S3','S4']]"
   ]
  },
  {
   "cell_type": "code",
   "execution_count": 82,
   "id": "6a4eb041",
   "metadata": {},
   "outputs": [
    {
     "data": {
      "text/plain": [
       "A    0.435601\n",
       "B    0.055064\n",
       "C    0.793234\n",
       "D    0.444745\n",
       "E    0.602209\n",
       "F    0.524678\n",
       "G    0.191241\n",
       "H    0.421656\n",
       "Name: S2, dtype: float64"
      ]
     },
     "execution_count": 82,
     "metadata": {},
     "output_type": "execute_result"
    }
   ],
   "source": [
    "df1['S2']"
   ]
  },
  {
   "cell_type": "code",
   "execution_count": 84,
   "id": "86c62e30",
   "metadata": {},
   "outputs": [
    {
     "data": {
      "text/html": [
       "<div>\n",
       "<style scoped>\n",
       "    .dataframe tbody tr th:only-of-type {\n",
       "        vertical-align: middle;\n",
       "    }\n",
       "\n",
       "    .dataframe tbody tr th {\n",
       "        vertical-align: top;\n",
       "    }\n",
       "\n",
       "    .dataframe thead th {\n",
       "        text-align: right;\n",
       "    }\n",
       "</style>\n",
       "<table border=\"1\" class=\"dataframe\">\n",
       "  <thead>\n",
       "    <tr style=\"text-align: right;\">\n",
       "      <th></th>\n",
       "      <th>S1</th>\n",
       "      <th>S2</th>\n",
       "      <th>S3</th>\n",
       "      <th>S4</th>\n",
       "      <th>S5</th>\n",
       "      <th>S6</th>\n",
       "    </tr>\n",
       "  </thead>\n",
       "  <tbody>\n",
       "    <tr>\n",
       "      <th>A</th>\n",
       "      <td>0.412847</td>\n",
       "      <td>0.435601</td>\n",
       "      <td>0.366217</td>\n",
       "      <td>0.088628</td>\n",
       "      <td>0.222764</td>\n",
       "      <td>0.848447</td>\n",
       "    </tr>\n",
       "    <tr>\n",
       "      <th>B</th>\n",
       "      <td>0.266975</td>\n",
       "      <td>0.055064</td>\n",
       "      <td>0.905654</td>\n",
       "      <td>0.317864</td>\n",
       "      <td>0.359079</td>\n",
       "      <td>0.322040</td>\n",
       "    </tr>\n",
       "    <tr>\n",
       "      <th>C</th>\n",
       "      <td>0.391624</td>\n",
       "      <td>0.793234</td>\n",
       "      <td>0.604505</td>\n",
       "      <td>0.110979</td>\n",
       "      <td>0.222487</td>\n",
       "      <td>1.184858</td>\n",
       "    </tr>\n",
       "    <tr>\n",
       "      <th>D</th>\n",
       "      <td>0.361286</td>\n",
       "      <td>0.444745</td>\n",
       "      <td>0.027324</td>\n",
       "      <td>0.256862</td>\n",
       "      <td>0.314438</td>\n",
       "      <td>0.806031</td>\n",
       "    </tr>\n",
       "    <tr>\n",
       "      <th>E</th>\n",
       "      <td>0.533231</td>\n",
       "      <td>0.602209</td>\n",
       "      <td>0.731437</td>\n",
       "      <td>0.897979</td>\n",
       "      <td>0.771627</td>\n",
       "      <td>1.135439</td>\n",
       "    </tr>\n",
       "    <tr>\n",
       "      <th>F</th>\n",
       "      <td>0.649547</td>\n",
       "      <td>0.524678</td>\n",
       "      <td>0.589033</td>\n",
       "      <td>0.011166</td>\n",
       "      <td>0.915994</td>\n",
       "      <td>1.174226</td>\n",
       "    </tr>\n",
       "    <tr>\n",
       "      <th>G</th>\n",
       "      <td>0.347125</td>\n",
       "      <td>0.191241</td>\n",
       "      <td>0.316504</td>\n",
       "      <td>0.354434</td>\n",
       "      <td>0.248917</td>\n",
       "      <td>0.538366</td>\n",
       "    </tr>\n",
       "    <tr>\n",
       "      <th>H</th>\n",
       "      <td>0.884964</td>\n",
       "      <td>0.421656</td>\n",
       "      <td>0.245015</td>\n",
       "      <td>0.408842</td>\n",
       "      <td>0.416265</td>\n",
       "      <td>1.306619</td>\n",
       "    </tr>\n",
       "  </tbody>\n",
       "</table>\n",
       "</div>"
      ],
      "text/plain": [
       "         S1        S2        S3        S4        S5        S6\n",
       "A  0.412847  0.435601  0.366217  0.088628  0.222764  0.848447\n",
       "B  0.266975  0.055064  0.905654  0.317864  0.359079  0.322040\n",
       "C  0.391624  0.793234  0.604505  0.110979  0.222487  1.184858\n",
       "D  0.361286  0.444745  0.027324  0.256862  0.314438  0.806031\n",
       "E  0.533231  0.602209  0.731437  0.897979  0.771627  1.135439\n",
       "F  0.649547  0.524678  0.589033  0.011166  0.915994  1.174226\n",
       "G  0.347125  0.191241  0.316504  0.354434  0.248917  0.538366\n",
       "H  0.884964  0.421656  0.245015  0.408842  0.416265  1.306619"
      ]
     },
     "execution_count": 84,
     "metadata": {},
     "output_type": "execute_result"
    }
   ],
   "source": [
    "df1['S6']=df1['S1']+df1['S2']\n",
    "df1"
   ]
  },
  {
   "cell_type": "code",
   "execution_count": 85,
   "id": "2a22e497",
   "metadata": {},
   "outputs": [
    {
     "data": {
      "text/html": [
       "<div>\n",
       "<style scoped>\n",
       "    .dataframe tbody tr th:only-of-type {\n",
       "        vertical-align: middle;\n",
       "    }\n",
       "\n",
       "    .dataframe tbody tr th {\n",
       "        vertical-align: top;\n",
       "    }\n",
       "\n",
       "    .dataframe thead th {\n",
       "        text-align: right;\n",
       "    }\n",
       "</style>\n",
       "<table border=\"1\" class=\"dataframe\">\n",
       "  <thead>\n",
       "    <tr style=\"text-align: right;\">\n",
       "      <th></th>\n",
       "      <th>S1</th>\n",
       "      <th>S2</th>\n",
       "      <th>S3</th>\n",
       "      <th>S4</th>\n",
       "      <th>S5</th>\n",
       "      <th>S6</th>\n",
       "    </tr>\n",
       "  </thead>\n",
       "  <tbody>\n",
       "    <tr>\n",
       "      <th>A</th>\n",
       "      <td>0.412847</td>\n",
       "      <td>0.435601</td>\n",
       "      <td>0.366217</td>\n",
       "      <td>0.088628</td>\n",
       "      <td>0.222764</td>\n",
       "      <td>0.848447</td>\n",
       "    </tr>\n",
       "    <tr>\n",
       "      <th>B</th>\n",
       "      <td>0.266975</td>\n",
       "      <td>0.055064</td>\n",
       "      <td>0.905654</td>\n",
       "      <td>0.317864</td>\n",
       "      <td>0.359079</td>\n",
       "      <td>0.322040</td>\n",
       "    </tr>\n",
       "    <tr>\n",
       "      <th>C</th>\n",
       "      <td>0.391624</td>\n",
       "      <td>0.793234</td>\n",
       "      <td>0.604505</td>\n",
       "      <td>0.110979</td>\n",
       "      <td>0.222487</td>\n",
       "      <td>1.184858</td>\n",
       "    </tr>\n",
       "    <tr>\n",
       "      <th>D</th>\n",
       "      <td>0.361286</td>\n",
       "      <td>0.444745</td>\n",
       "      <td>0.027324</td>\n",
       "      <td>0.256862</td>\n",
       "      <td>0.314438</td>\n",
       "      <td>0.806031</td>\n",
       "    </tr>\n",
       "    <tr>\n",
       "      <th>F</th>\n",
       "      <td>0.649547</td>\n",
       "      <td>0.524678</td>\n",
       "      <td>0.589033</td>\n",
       "      <td>0.011166</td>\n",
       "      <td>0.915994</td>\n",
       "      <td>1.174226</td>\n",
       "    </tr>\n",
       "    <tr>\n",
       "      <th>G</th>\n",
       "      <td>0.347125</td>\n",
       "      <td>0.191241</td>\n",
       "      <td>0.316504</td>\n",
       "      <td>0.354434</td>\n",
       "      <td>0.248917</td>\n",
       "      <td>0.538366</td>\n",
       "    </tr>\n",
       "    <tr>\n",
       "      <th>H</th>\n",
       "      <td>0.884964</td>\n",
       "      <td>0.421656</td>\n",
       "      <td>0.245015</td>\n",
       "      <td>0.408842</td>\n",
       "      <td>0.416265</td>\n",
       "      <td>1.306619</td>\n",
       "    </tr>\n",
       "  </tbody>\n",
       "</table>\n",
       "</div>"
      ],
      "text/plain": [
       "         S1        S2        S3        S4        S5        S6\n",
       "A  0.412847  0.435601  0.366217  0.088628  0.222764  0.848447\n",
       "B  0.266975  0.055064  0.905654  0.317864  0.359079  0.322040\n",
       "C  0.391624  0.793234  0.604505  0.110979  0.222487  1.184858\n",
       "D  0.361286  0.444745  0.027324  0.256862  0.314438  0.806031\n",
       "F  0.649547  0.524678  0.589033  0.011166  0.915994  1.174226\n",
       "G  0.347125  0.191241  0.316504  0.354434  0.248917  0.538366\n",
       "H  0.884964  0.421656  0.245015  0.408842  0.416265  1.306619"
      ]
     },
     "execution_count": 85,
     "metadata": {},
     "output_type": "execute_result"
    }
   ],
   "source": [
    "df1.drop('E')"
   ]
  },
  {
   "cell_type": "code",
   "execution_count": 86,
   "id": "f3ea47c4",
   "metadata": {},
   "outputs": [
    {
     "data": {
      "text/html": [
       "<div>\n",
       "<style scoped>\n",
       "    .dataframe tbody tr th:only-of-type {\n",
       "        vertical-align: middle;\n",
       "    }\n",
       "\n",
       "    .dataframe tbody tr th {\n",
       "        vertical-align: top;\n",
       "    }\n",
       "\n",
       "    .dataframe thead th {\n",
       "        text-align: right;\n",
       "    }\n",
       "</style>\n",
       "<table border=\"1\" class=\"dataframe\">\n",
       "  <thead>\n",
       "    <tr style=\"text-align: right;\">\n",
       "      <th></th>\n",
       "      <th>S2</th>\n",
       "      <th>S3</th>\n",
       "      <th>S4</th>\n",
       "      <th>S5</th>\n",
       "      <th>S6</th>\n",
       "    </tr>\n",
       "  </thead>\n",
       "  <tbody>\n",
       "    <tr>\n",
       "      <th>A</th>\n",
       "      <td>0.435601</td>\n",
       "      <td>0.366217</td>\n",
       "      <td>0.088628</td>\n",
       "      <td>0.222764</td>\n",
       "      <td>0.848447</td>\n",
       "    </tr>\n",
       "    <tr>\n",
       "      <th>B</th>\n",
       "      <td>0.055064</td>\n",
       "      <td>0.905654</td>\n",
       "      <td>0.317864</td>\n",
       "      <td>0.359079</td>\n",
       "      <td>0.322040</td>\n",
       "    </tr>\n",
       "    <tr>\n",
       "      <th>C</th>\n",
       "      <td>0.793234</td>\n",
       "      <td>0.604505</td>\n",
       "      <td>0.110979</td>\n",
       "      <td>0.222487</td>\n",
       "      <td>1.184858</td>\n",
       "    </tr>\n",
       "    <tr>\n",
       "      <th>D</th>\n",
       "      <td>0.444745</td>\n",
       "      <td>0.027324</td>\n",
       "      <td>0.256862</td>\n",
       "      <td>0.314438</td>\n",
       "      <td>0.806031</td>\n",
       "    </tr>\n",
       "    <tr>\n",
       "      <th>E</th>\n",
       "      <td>0.602209</td>\n",
       "      <td>0.731437</td>\n",
       "      <td>0.897979</td>\n",
       "      <td>0.771627</td>\n",
       "      <td>1.135439</td>\n",
       "    </tr>\n",
       "    <tr>\n",
       "      <th>F</th>\n",
       "      <td>0.524678</td>\n",
       "      <td>0.589033</td>\n",
       "      <td>0.011166</td>\n",
       "      <td>0.915994</td>\n",
       "      <td>1.174226</td>\n",
       "    </tr>\n",
       "    <tr>\n",
       "      <th>G</th>\n",
       "      <td>0.191241</td>\n",
       "      <td>0.316504</td>\n",
       "      <td>0.354434</td>\n",
       "      <td>0.248917</td>\n",
       "      <td>0.538366</td>\n",
       "    </tr>\n",
       "    <tr>\n",
       "      <th>H</th>\n",
       "      <td>0.421656</td>\n",
       "      <td>0.245015</td>\n",
       "      <td>0.408842</td>\n",
       "      <td>0.416265</td>\n",
       "      <td>1.306619</td>\n",
       "    </tr>\n",
       "  </tbody>\n",
       "</table>\n",
       "</div>"
      ],
      "text/plain": [
       "         S2        S3        S4        S5        S6\n",
       "A  0.435601  0.366217  0.088628  0.222764  0.848447\n",
       "B  0.055064  0.905654  0.317864  0.359079  0.322040\n",
       "C  0.793234  0.604505  0.110979  0.222487  1.184858\n",
       "D  0.444745  0.027324  0.256862  0.314438  0.806031\n",
       "E  0.602209  0.731437  0.897979  0.771627  1.135439\n",
       "F  0.524678  0.589033  0.011166  0.915994  1.174226\n",
       "G  0.191241  0.316504  0.354434  0.248917  0.538366\n",
       "H  0.421656  0.245015  0.408842  0.416265  1.306619"
      ]
     },
     "execution_count": 86,
     "metadata": {},
     "output_type": "execute_result"
    }
   ],
   "source": [
    "df1.drop('S1',axis=1)"
   ]
  },
  {
   "cell_type": "code",
   "execution_count": 87,
   "id": "605166fd",
   "metadata": {},
   "outputs": [
    {
     "data": {
      "text/html": [
       "<div>\n",
       "<style scoped>\n",
       "    .dataframe tbody tr th:only-of-type {\n",
       "        vertical-align: middle;\n",
       "    }\n",
       "\n",
       "    .dataframe tbody tr th {\n",
       "        vertical-align: top;\n",
       "    }\n",
       "\n",
       "    .dataframe thead th {\n",
       "        text-align: right;\n",
       "    }\n",
       "</style>\n",
       "<table border=\"1\" class=\"dataframe\">\n",
       "  <thead>\n",
       "    <tr style=\"text-align: right;\">\n",
       "      <th></th>\n",
       "      <th>S1</th>\n",
       "      <th>S2</th>\n",
       "      <th>S3</th>\n",
       "      <th>S4</th>\n",
       "      <th>S5</th>\n",
       "      <th>S6</th>\n",
       "    </tr>\n",
       "  </thead>\n",
       "  <tbody>\n",
       "    <tr>\n",
       "      <th>B</th>\n",
       "      <td>0.266975</td>\n",
       "      <td>0.055064</td>\n",
       "      <td>0.905654</td>\n",
       "      <td>0.317864</td>\n",
       "      <td>0.359079</td>\n",
       "      <td>0.322040</td>\n",
       "    </tr>\n",
       "    <tr>\n",
       "      <th>C</th>\n",
       "      <td>0.391624</td>\n",
       "      <td>0.793234</td>\n",
       "      <td>0.604505</td>\n",
       "      <td>0.110979</td>\n",
       "      <td>0.222487</td>\n",
       "      <td>1.184858</td>\n",
       "    </tr>\n",
       "    <tr>\n",
       "      <th>D</th>\n",
       "      <td>0.361286</td>\n",
       "      <td>0.444745</td>\n",
       "      <td>0.027324</td>\n",
       "      <td>0.256862</td>\n",
       "      <td>0.314438</td>\n",
       "      <td>0.806031</td>\n",
       "    </tr>\n",
       "    <tr>\n",
       "      <th>E</th>\n",
       "      <td>0.533231</td>\n",
       "      <td>0.602209</td>\n",
       "      <td>0.731437</td>\n",
       "      <td>0.897979</td>\n",
       "      <td>0.771627</td>\n",
       "      <td>1.135439</td>\n",
       "    </tr>\n",
       "    <tr>\n",
       "      <th>F</th>\n",
       "      <td>0.649547</td>\n",
       "      <td>0.524678</td>\n",
       "      <td>0.589033</td>\n",
       "      <td>0.011166</td>\n",
       "      <td>0.915994</td>\n",
       "      <td>1.174226</td>\n",
       "    </tr>\n",
       "    <tr>\n",
       "      <th>G</th>\n",
       "      <td>0.347125</td>\n",
       "      <td>0.191241</td>\n",
       "      <td>0.316504</td>\n",
       "      <td>0.354434</td>\n",
       "      <td>0.248917</td>\n",
       "      <td>0.538366</td>\n",
       "    </tr>\n",
       "    <tr>\n",
       "      <th>H</th>\n",
       "      <td>0.884964</td>\n",
       "      <td>0.421656</td>\n",
       "      <td>0.245015</td>\n",
       "      <td>0.408842</td>\n",
       "      <td>0.416265</td>\n",
       "      <td>1.306619</td>\n",
       "    </tr>\n",
       "  </tbody>\n",
       "</table>\n",
       "</div>"
      ],
      "text/plain": [
       "         S1        S2        S3        S4        S5        S6\n",
       "B  0.266975  0.055064  0.905654  0.317864  0.359079  0.322040\n",
       "C  0.391624  0.793234  0.604505  0.110979  0.222487  1.184858\n",
       "D  0.361286  0.444745  0.027324  0.256862  0.314438  0.806031\n",
       "E  0.533231  0.602209  0.731437  0.897979  0.771627  1.135439\n",
       "F  0.649547  0.524678  0.589033  0.011166  0.915994  1.174226\n",
       "G  0.347125  0.191241  0.316504  0.354434  0.248917  0.538366\n",
       "H  0.884964  0.421656  0.245015  0.408842  0.416265  1.306619"
      ]
     },
     "execution_count": 87,
     "metadata": {},
     "output_type": "execute_result"
    }
   ],
   "source": [
    "df1.drop(\"A\",axis=0)"
   ]
  },
  {
   "cell_type": "code",
   "execution_count": 88,
   "id": "1ea95afc",
   "metadata": {},
   "outputs": [
    {
     "data": {
      "text/html": [
       "<div>\n",
       "<style scoped>\n",
       "    .dataframe tbody tr th:only-of-type {\n",
       "        vertical-align: middle;\n",
       "    }\n",
       "\n",
       "    .dataframe tbody tr th {\n",
       "        vertical-align: top;\n",
       "    }\n",
       "\n",
       "    .dataframe thead th {\n",
       "        text-align: right;\n",
       "    }\n",
       "</style>\n",
       "<table border=\"1\" class=\"dataframe\">\n",
       "  <thead>\n",
       "    <tr style=\"text-align: right;\">\n",
       "      <th></th>\n",
       "      <th>S3</th>\n",
       "      <th>S4</th>\n",
       "      <th>S5</th>\n",
       "      <th>S6</th>\n",
       "    </tr>\n",
       "  </thead>\n",
       "  <tbody>\n",
       "    <tr>\n",
       "      <th>A</th>\n",
       "      <td>0.366217</td>\n",
       "      <td>0.088628</td>\n",
       "      <td>0.222764</td>\n",
       "      <td>0.848447</td>\n",
       "    </tr>\n",
       "    <tr>\n",
       "      <th>B</th>\n",
       "      <td>0.905654</td>\n",
       "      <td>0.317864</td>\n",
       "      <td>0.359079</td>\n",
       "      <td>0.322040</td>\n",
       "    </tr>\n",
       "    <tr>\n",
       "      <th>C</th>\n",
       "      <td>0.604505</td>\n",
       "      <td>0.110979</td>\n",
       "      <td>0.222487</td>\n",
       "      <td>1.184858</td>\n",
       "    </tr>\n",
       "    <tr>\n",
       "      <th>D</th>\n",
       "      <td>0.027324</td>\n",
       "      <td>0.256862</td>\n",
       "      <td>0.314438</td>\n",
       "      <td>0.806031</td>\n",
       "    </tr>\n",
       "    <tr>\n",
       "      <th>E</th>\n",
       "      <td>0.731437</td>\n",
       "      <td>0.897979</td>\n",
       "      <td>0.771627</td>\n",
       "      <td>1.135439</td>\n",
       "    </tr>\n",
       "    <tr>\n",
       "      <th>F</th>\n",
       "      <td>0.589033</td>\n",
       "      <td>0.011166</td>\n",
       "      <td>0.915994</td>\n",
       "      <td>1.174226</td>\n",
       "    </tr>\n",
       "    <tr>\n",
       "      <th>G</th>\n",
       "      <td>0.316504</td>\n",
       "      <td>0.354434</td>\n",
       "      <td>0.248917</td>\n",
       "      <td>0.538366</td>\n",
       "    </tr>\n",
       "    <tr>\n",
       "      <th>H</th>\n",
       "      <td>0.245015</td>\n",
       "      <td>0.408842</td>\n",
       "      <td>0.416265</td>\n",
       "      <td>1.306619</td>\n",
       "    </tr>\n",
       "  </tbody>\n",
       "</table>\n",
       "</div>"
      ],
      "text/plain": [
       "         S3        S4        S5        S6\n",
       "A  0.366217  0.088628  0.222764  0.848447\n",
       "B  0.905654  0.317864  0.359079  0.322040\n",
       "C  0.604505  0.110979  0.222487  1.184858\n",
       "D  0.027324  0.256862  0.314438  0.806031\n",
       "E  0.731437  0.897979  0.771627  1.135439\n",
       "F  0.589033  0.011166  0.915994  1.174226\n",
       "G  0.316504  0.354434  0.248917  0.538366\n",
       "H  0.245015  0.408842  0.416265  1.306619"
      ]
     },
     "execution_count": 88,
     "metadata": {},
     "output_type": "execute_result"
    }
   ],
   "source": [
    "df1.drop([\"S1\",\"S2\"],axis=1)"
   ]
  },
  {
   "cell_type": "code",
   "execution_count": 70,
   "id": "5783e560",
   "metadata": {},
   "outputs": [
    {
     "data": {
      "text/html": [
       "<div>\n",
       "<style scoped>\n",
       "    .dataframe tbody tr th:only-of-type {\n",
       "        vertical-align: middle;\n",
       "    }\n",
       "\n",
       "    .dataframe tbody tr th {\n",
       "        vertical-align: top;\n",
       "    }\n",
       "\n",
       "    .dataframe thead th {\n",
       "        text-align: right;\n",
       "    }\n",
       "</style>\n",
       "<table border=\"1\" class=\"dataframe\">\n",
       "  <thead>\n",
       "    <tr style=\"text-align: right;\">\n",
       "      <th></th>\n",
       "      <th>ID</th>\n",
       "      <th>Name</th>\n",
       "      <th>Profit</th>\n",
       "    </tr>\n",
       "  </thead>\n",
       "  <tbody>\n",
       "    <tr>\n",
       "      <th>0</th>\n",
       "      <td>101</td>\n",
       "      <td>John</td>\n",
       "      <td>20</td>\n",
       "    </tr>\n",
       "    <tr>\n",
       "      <th>1</th>\n",
       "      <td>102</td>\n",
       "      <td>Merru</td>\n",
       "      <td>54</td>\n",
       "    </tr>\n",
       "    <tr>\n",
       "      <th>2</th>\n",
       "      <td>103</td>\n",
       "      <td>asd</td>\n",
       "      <td>56</td>\n",
       "    </tr>\n",
       "    <tr>\n",
       "      <th>3</th>\n",
       "      <td>107</td>\n",
       "      <td>safg</td>\n",
       "      <td>87</td>\n",
       "    </tr>\n",
       "    <tr>\n",
       "      <th>4</th>\n",
       "      <td>176</td>\n",
       "      <td>fdgg</td>\n",
       "      <td>123</td>\n",
       "    </tr>\n",
       "  </tbody>\n",
       "</table>\n",
       "</div>"
      ],
      "text/plain": [
       "    ID   Name  Profit\n",
       "0  101   John      20\n",
       "1  102  Merru      54\n",
       "2  103    asd      56\n",
       "3  107   safg      87\n",
       "4  176   fdgg     123"
      ]
     },
     "execution_count": 70,
     "metadata": {},
     "output_type": "execute_result"
    }
   ],
   "source": [
    "df2={'ID':[101,102,103,107,176],'Name':['John','Merru','asd','safg','fdgg'],'Profit':[20,54,56,87,123]}\n",
    "df=pd.DataFrame(df2)\n",
    "df"
   ]
  },
  {
   "cell_type": "code",
   "execution_count": 89,
   "id": "cde42fea",
   "metadata": {},
   "outputs": [
    {
     "data": {
      "text/html": [
       "<div>\n",
       "<style scoped>\n",
       "    .dataframe tbody tr th:only-of-type {\n",
       "        vertical-align: middle;\n",
       "    }\n",
       "\n",
       "    .dataframe tbody tr th {\n",
       "        vertical-align: top;\n",
       "    }\n",
       "\n",
       "    .dataframe thead th {\n",
       "        text-align: right;\n",
       "    }\n",
       "</style>\n",
       "<table border=\"1\" class=\"dataframe\">\n",
       "  <thead>\n",
       "    <tr style=\"text-align: right;\">\n",
       "      <th></th>\n",
       "      <th>Name</th>\n",
       "      <th>Profit</th>\n",
       "    </tr>\n",
       "  </thead>\n",
       "  <tbody>\n",
       "    <tr>\n",
       "      <th>0</th>\n",
       "      <td>John</td>\n",
       "      <td>20</td>\n",
       "    </tr>\n",
       "    <tr>\n",
       "      <th>1</th>\n",
       "      <td>Merru</td>\n",
       "      <td>54</td>\n",
       "    </tr>\n",
       "    <tr>\n",
       "      <th>2</th>\n",
       "      <td>asd</td>\n",
       "      <td>56</td>\n",
       "    </tr>\n",
       "    <tr>\n",
       "      <th>3</th>\n",
       "      <td>safg</td>\n",
       "      <td>87</td>\n",
       "    </tr>\n",
       "    <tr>\n",
       "      <th>4</th>\n",
       "      <td>fdgg</td>\n",
       "      <td>123</td>\n",
       "    </tr>\n",
       "  </tbody>\n",
       "</table>\n",
       "</div>"
      ],
      "text/plain": [
       "    Name  Profit\n",
       "0   John      20\n",
       "1  Merru      54\n",
       "2    asd      56\n",
       "3   safg      87\n",
       "4   fdgg     123"
      ]
     },
     "execution_count": 89,
     "metadata": {},
     "output_type": "execute_result"
    }
   ],
   "source": [
    "df.drop('ID',axis=1)"
   ]
  },
  {
   "cell_type": "code",
   "execution_count": 90,
   "id": "19dcd715",
   "metadata": {},
   "outputs": [
    {
     "data": {
      "text/html": [
       "<div>\n",
       "<style scoped>\n",
       "    .dataframe tbody tr th:only-of-type {\n",
       "        vertical-align: middle;\n",
       "    }\n",
       "\n",
       "    .dataframe tbody tr th {\n",
       "        vertical-align: top;\n",
       "    }\n",
       "\n",
       "    .dataframe thead th {\n",
       "        text-align: right;\n",
       "    }\n",
       "</style>\n",
       "<table border=\"1\" class=\"dataframe\">\n",
       "  <thead>\n",
       "    <tr style=\"text-align: right;\">\n",
       "      <th></th>\n",
       "      <th>ID</th>\n",
       "      <th>Name</th>\n",
       "      <th>Profit</th>\n",
       "    </tr>\n",
       "  </thead>\n",
       "  <tbody>\n",
       "    <tr>\n",
       "      <th>0</th>\n",
       "      <td>101</td>\n",
       "      <td>John</td>\n",
       "      <td>20</td>\n",
       "    </tr>\n",
       "    <tr>\n",
       "      <th>1</th>\n",
       "      <td>102</td>\n",
       "      <td>Merru</td>\n",
       "      <td>54</td>\n",
       "    </tr>\n",
       "    <tr>\n",
       "      <th>2</th>\n",
       "      <td>103</td>\n",
       "      <td>asd</td>\n",
       "      <td>56</td>\n",
       "    </tr>\n",
       "    <tr>\n",
       "      <th>4</th>\n",
       "      <td>176</td>\n",
       "      <td>fdgg</td>\n",
       "      <td>123</td>\n",
       "    </tr>\n",
       "  </tbody>\n",
       "</table>\n",
       "</div>"
      ],
      "text/plain": [
       "    ID   Name  Profit\n",
       "0  101   John      20\n",
       "1  102  Merru      54\n",
       "2  103    asd      56\n",
       "4  176   fdgg     123"
      ]
     },
     "execution_count": 90,
     "metadata": {},
     "output_type": "execute_result"
    }
   ],
   "source": [
    "df.drop(3)"
   ]
  },
  {
   "cell_type": "code",
   "execution_count": 91,
   "id": "d4f628f5",
   "metadata": {},
   "outputs": [
    {
     "data": {
      "text/plain": [
       "0     John\n",
       "1    Merru\n",
       "2      asd\n",
       "3     safg\n",
       "4     fdgg\n",
       "Name: Name, dtype: object"
      ]
     },
     "execution_count": 91,
     "metadata": {},
     "output_type": "execute_result"
    }
   ],
   "source": [
    "df['Name']"
   ]
  },
  {
   "cell_type": "code",
   "execution_count": 92,
   "id": "b739d4af",
   "metadata": {},
   "outputs": [
    {
     "data": {
      "text/html": [
       "<div>\n",
       "<style scoped>\n",
       "    .dataframe tbody tr th:only-of-type {\n",
       "        vertical-align: middle;\n",
       "    }\n",
       "\n",
       "    .dataframe tbody tr th {\n",
       "        vertical-align: top;\n",
       "    }\n",
       "\n",
       "    .dataframe thead th {\n",
       "        text-align: right;\n",
       "    }\n",
       "</style>\n",
       "<table border=\"1\" class=\"dataframe\">\n",
       "  <thead>\n",
       "    <tr style=\"text-align: right;\">\n",
       "      <th></th>\n",
       "      <th>Name</th>\n",
       "      <th>ID</th>\n",
       "    </tr>\n",
       "  </thead>\n",
       "  <tbody>\n",
       "    <tr>\n",
       "      <th>0</th>\n",
       "      <td>John</td>\n",
       "      <td>101</td>\n",
       "    </tr>\n",
       "    <tr>\n",
       "      <th>1</th>\n",
       "      <td>Merru</td>\n",
       "      <td>102</td>\n",
       "    </tr>\n",
       "    <tr>\n",
       "      <th>2</th>\n",
       "      <td>asd</td>\n",
       "      <td>103</td>\n",
       "    </tr>\n",
       "    <tr>\n",
       "      <th>3</th>\n",
       "      <td>safg</td>\n",
       "      <td>107</td>\n",
       "    </tr>\n",
       "    <tr>\n",
       "      <th>4</th>\n",
       "      <td>fdgg</td>\n",
       "      <td>176</td>\n",
       "    </tr>\n",
       "  </tbody>\n",
       "</table>\n",
       "</div>"
      ],
      "text/plain": [
       "    Name   ID\n",
       "0   John  101\n",
       "1  Merru  102\n",
       "2    asd  103\n",
       "3   safg  107\n",
       "4   fdgg  176"
      ]
     },
     "execution_count": 92,
     "metadata": {},
     "output_type": "execute_result"
    }
   ],
   "source": [
    "df[['Name','ID']]"
   ]
  },
  {
   "cell_type": "code",
   "execution_count": null,
   "id": "59a9fccf",
   "metadata": {},
   "outputs": [],
   "source": [
    "df=pd.read_csv(\"innercity.csv\")"
   ]
  },
  {
   "cell_type": "code",
   "execution_count": 93,
   "id": "84422d7a",
   "metadata": {},
   "outputs": [
    {
     "data": {
      "text/html": [
       "<div>\n",
       "<style scoped>\n",
       "    .dataframe tbody tr th:only-of-type {\n",
       "        vertical-align: middle;\n",
       "    }\n",
       "\n",
       "    .dataframe tbody tr th {\n",
       "        vertical-align: top;\n",
       "    }\n",
       "\n",
       "    .dataframe thead th {\n",
       "        text-align: right;\n",
       "    }\n",
       "</style>\n",
       "<table border=\"1\" class=\"dataframe\">\n",
       "  <thead>\n",
       "    <tr style=\"text-align: right;\">\n",
       "      <th></th>\n",
       "      <th>ID</th>\n",
       "      <th>Name</th>\n",
       "      <th>Profit</th>\n",
       "    </tr>\n",
       "  </thead>\n",
       "  <tbody>\n",
       "    <tr>\n",
       "      <th>0</th>\n",
       "      <td>101</td>\n",
       "      <td>John</td>\n",
       "      <td>20</td>\n",
       "    </tr>\n",
       "    <tr>\n",
       "      <th>1</th>\n",
       "      <td>102</td>\n",
       "      <td>Merru</td>\n",
       "      <td>54</td>\n",
       "    </tr>\n",
       "    <tr>\n",
       "      <th>2</th>\n",
       "      <td>103</td>\n",
       "      <td>asd</td>\n",
       "      <td>56</td>\n",
       "    </tr>\n",
       "    <tr>\n",
       "      <th>3</th>\n",
       "      <td>107</td>\n",
       "      <td>safg</td>\n",
       "      <td>87</td>\n",
       "    </tr>\n",
       "    <tr>\n",
       "      <th>4</th>\n",
       "      <td>176</td>\n",
       "      <td>fdgg</td>\n",
       "      <td>123</td>\n",
       "    </tr>\n",
       "  </tbody>\n",
       "</table>\n",
       "</div>"
      ],
      "text/plain": [
       "    ID   Name  Profit\n",
       "0  101   John      20\n",
       "1  102  Merru      54\n",
       "2  103    asd      56\n",
       "3  107   safg      87\n",
       "4  176   fdgg     123"
      ]
     },
     "execution_count": 93,
     "metadata": {},
     "output_type": "execute_result"
    }
   ],
   "source": [
    "df.head()"
   ]
  },
  {
   "cell_type": "code",
   "execution_count": 74,
   "id": "ea696b40",
   "metadata": {},
   "outputs": [
    {
     "data": {
      "text/plain": [
       "array([0, 0, 0, 0, 0, 0, 0, 0, 0, 0])"
      ]
     },
     "execution_count": 74,
     "metadata": {},
     "output_type": "execute_result"
    }
   ],
   "source": [
    "np.zeros(10,int)"
   ]
  },
  {
   "cell_type": "code",
   "execution_count": 75,
   "id": "00083a11",
   "metadata": {},
   "outputs": [
    {
     "data": {
      "text/plain": [
       "array([0, 0, 0, 0, 1, 0, 0, 0, 0, 0])"
      ]
     },
     "execution_count": 75,
     "metadata": {},
     "output_type": "execute_result"
    }
   ],
   "source": [
    "a=np.zeros(10,int)\n",
    "a[4]=1\n",
    "a"
   ]
  },
  {
   "cell_type": "code",
   "execution_count": 76,
   "id": "5312fedf",
   "metadata": {},
   "outputs": [
    {
     "data": {
      "text/plain": [
       "array([[0, 1, 2],\n",
       "       [3, 4, 5],\n",
       "       [6, 7, 8]])"
      ]
     },
     "execution_count": 76,
     "metadata": {},
     "output_type": "execute_result"
    }
   ],
   "source": [
    "a=np.arange(0,9).reshape(3,3)\n",
    "a"
   ]
  },
  {
   "cell_type": "code",
   "execution_count": null,
   "id": "c39c1241",
   "metadata": {},
   "outputs": [],
   "source": []
  }
 ],
 "metadata": {
  "kernelspec": {
   "display_name": "Python 3",
   "language": "python",
   "name": "python3"
  },
  "language_info": {
   "codemirror_mode": {
    "name": "ipython",
    "version": 3
   },
   "file_extension": ".py",
   "mimetype": "text/x-python",
   "name": "python",
   "nbconvert_exporter": "python",
   "pygments_lexer": "ipython3",
   "version": "3.8.8"
  }
 },
 "nbformat": 4,
 "nbformat_minor": 5
}
